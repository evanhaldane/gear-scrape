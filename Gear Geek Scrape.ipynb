{
 "cells": [
  {
   "cell_type": "code",
   "execution_count": null,
   "metadata": {},
   "outputs": [],
   "source": [
    "import lxml.html\n",
    "from lxml.cssselect import CSSSelector\n",
    "import requests\n",
    "import csv"
   ]
  },
  {
   "cell_type": "code",
   "execution_count": null,
   "metadata": {},
   "outputs": [],
   "source": [
    "team_page_links = ['https://www.geargeek.com/anaheim-ducks','https://www.geargeek.com/team/arizona-coyotes','https://www.geargeek.com/team/calgary-flames','https://www.geargeek.com/team/edmonton-oilers','https://www.geargeek.com/team/los-angeles-kings','https://www.geargeek.com/team/san-jose-sharks','https://www.geargeek.com/team/vancouver-canucks','https://www.geargeek.com/team/vegas-golden-knights','https://www.geargeek.com/team/chicago-blackhawks','https://www.geargeek.com/team/colorado-avalanche','https://www.geargeek.com/team/dallas-stars','https://www.geargeek.com/team/minnesota-wild','https://www.geargeek.com/team/nashville-predators','https://www.geargeek.com/team/st-louis-blues','https://www.geargeek.com/team/winnipeg-jets','https://www.geargeek.com/team/boston-bruins','https://www.geargeek.com/team/buffalo-sabres','https://www.geargeek.com/team/detroit-red-wings','https://www.geargeek.com/team/florida-panthers','https://www.geargeek.com/team/montreal-canadiens','https://www.geargeek.com/team/ottawa-senators','https://www.geargeek.com/team/tampa-bay-lightning','https://www.geargeek.com/team/toronto-maple-leafs','https://www.geargeek.com/team/carolina-hurricanes','https://www.geargeek.com/team/columbus-blue-jackets','https://www.geargeek.com/team/new-jersey-devils','https://www.geargeek.com/team/new-york-islanders','https://www.geargeek.com/team/new-york-rangers','https://www.geargeek.com/team/philadelphia-flyers','https://www.geargeek.com/team/pittsburgh-penguins','https://www.geargeek.com/team/washington-capital']"
   ]
  },
  {
   "cell_type": "code",
   "execution_count": null,
   "metadata": {},
   "outputs": [],
   "source": [
    "# read as: the link within the first column of a row within the table with id \"player_roster\"\n",
    "selector_player_link = CSSSelector(\"table#player_roster td:first-child a\")"
   ]
  },
  {
   "cell_type": "code",
   "execution_count": null,
   "metadata": {},
   "outputs": [],
   "source": [
    "with open('players.csv', 'w', newline='') as csvfile:\n",
    "    writer = csv.writer(csvfile, delimiter=',', quoting=csv.QUOTE_NONNUMERIC)\n",
    "    for team_page_link in team_page_links:\n",
    "        team_page = requests.get(team_page_link)\n",
    "        team_tree = lxml.html.fromstring(team_page.text)\n",
    "        for x in selector_player_link(team_tree):\n",
    "            writer.writerow([x.text, x.get('href')])"
   ]
  },
  {
   "cell_type": "code",
   "execution_count": null,
   "metadata": {},
   "outputs": [],
   "source": [
    "# each equipment type is in a div, and the brand is in an adjacent div\n",
    "# so select each block first to match them up in case the order is different\n",
    "selector_block = CSSSelector(\"div.equipment_block\")\n",
    "selector_equip_name = CSSSelector(\"div.equip_name\")\n",
    "selector_equip_brand = CSSSelector(\"div.equip_brand\")\n",
    "selector_team = CSSSelector(\"div.team a\")"
   ]
  },
  {
   "cell_type": "code",
   "execution_count": null,
   "metadata": {},
   "outputs": [],
   "source": [
    "# write header\n",
    "with open('gear.csv', 'w', newline='') as writefile:\n",
    "    writer = csv.writer(writefile, delimiter=',', quoting=csv.QUOTE_NONNUMERIC)\n",
    "    writer.writerow(['Team','Name','Link','Stick','Glove','Pants','Helmet','Skates'])"
   ]
  },
  {
   "cell_type": "code",
   "execution_count": null,
   "metadata": {},
   "outputs": [],
   "source": [
    "# for each player, parse data and add to gear file in append mode\n",
    "with open('players.csv', 'r') as csvfile:\n",
    "    reader = csv.reader(csvfile, delimiter=',')\n",
    "    with open('gear.csv', 'a', newline='') as writefile:\n",
    "        writer = csv.writer(writefile, delimiter=',', quoting=csv.QUOTE_NONNUMERIC)\n",
    "        for row in reader:\n",
    "            print(\"fetching gear data for \" + row[0])\n",
    "            player_page = requests.get('https://www.geargeek.com' + row[1])\n",
    "            player_tree = lxml.html.fromstring(player_page.text)\n",
    "            blocks = selector_block(player_tree)\n",
    "            stick, glove, pants, helmet, skates, team = '','','','','', ''\n",
    "            team = selector_team(player_tree)[0].text.strip()\n",
    "            for block in blocks:\n",
    "                name = selector_equip_name(block)[0].text.strip()\n",
    "                brand = selector_equip_brand(block)[0].text.strip()\n",
    "                if name == 'Stick':\n",
    "                    stick = brand\n",
    "                elif name == 'Glove':\n",
    "                    glove = brand\n",
    "                elif name == 'Pants':\n",
    "                    pants = brand\n",
    "                elif name == 'Helmet':\n",
    "                    helmet = brand\n",
    "                elif name == 'Skates':\n",
    "                    skates = brand\n",
    "            writer.writerow([team] + row + [stick,glove,pants,helmet,skates])"
   ]
  },
  {
   "cell_type": "code",
   "execution_count": null,
   "metadata": {},
   "outputs": [],
   "source": [
    "# everything is analagous for goalies but they have different equipment types\n",
    "selector_goalie_link = CSSSelector(\"table#player_roster_goalie td:first-child a\")\n",
    "with open('goalies.csv', 'w', newline='') as csvfile:\n",
    "    writer = csv.writer(csvfile, delimiter=',', quoting=csv.QUOTE_NONNUMERIC)\n",
    "    for team_page_link in team_page_links:\n",
    "        team_page = requests.get(team_page_link)\n",
    "        team_tree = lxml.html.fromstring(team_page.text)\n",
    "        for x in selector_goalie_link(team_tree):\n",
    "            writer.writerow([x.text, x.get('href')])"
   ]
  },
  {
   "cell_type": "code",
   "execution_count": null,
   "metadata": {},
   "outputs": [],
   "source": [
    "selector_block = CSSSelector(\"div.equipment_block\")\n",
    "selector_equip_name = CSSSelector(\"div.equip_name\")\n",
    "selector_equip_brand = CSSSelector(\"div.equip_brand\")\n",
    "selector_team = CSSSelector(\"div.team a\")\n",
    "with open('goaliegear.csv', 'w', newline='') as writefile:\n",
    "    writer = csv.writer(writefile, delimiter=',', quoting=csv.QUOTE_NONNUMERIC)\n",
    "    writer.writerow(['Team','Name','Link','Stick','Skates','Mask','Gloves','Blocker','Pads'])"
   ]
  },
  {
   "cell_type": "code",
   "execution_count": null,
   "metadata": {},
   "outputs": [],
   "source": [
    "with open('goalies.csv', 'r') as csvfile:\n",
    "    reader = csv.reader(csvfile, delimiter=',')\n",
    "    with open('goaliegear.csv', 'a', newline='') as writefile:\n",
    "        writer = csv.writer(writefile, delimiter=',', quoting=csv.QUOTE_NONNUMERIC)\n",
    "        for row in reader:\n",
    "            print(\"fetching gear data for \" + row[0])\n",
    "            player_page = requests.get('https://www.geargeek.com' + row[1])\n",
    "            player_tree = lxml.html.fromstring(player_page.text)\n",
    "            blocks = selector_block(player_tree)\n",
    "            stick, skates, mask, gloves, blocker, pads, team = '','','','','','',''\n",
    "            team = selector_team(player_tree)[0].text.strip()\n",
    "            for block in blocks:\n",
    "                name = selector_equip_name(block)[0].text.strip()\n",
    "                brand = selector_equip_brand(block)[0].text.strip()\n",
    "                if name == 'Stick':\n",
    "                    stick = brand\n",
    "                elif name == 'Skates':\n",
    "                    skates = brand\n",
    "                elif name == 'Mask':\n",
    "                    mask = brand\n",
    "                elif name == 'Gloves':\n",
    "                    gloves = brand\n",
    "                elif name == 'Blocker':\n",
    "                    blocker = brand\n",
    "                elif name == 'Pads':\n",
    "                    pads = brand\n",
    "            writer.writerow([team] + row + [stick, skates, mask, gloves, blocker, pads])"
   ]
  }
 ],
 "metadata": {
  "kernelspec": {
   "display_name": "Python 3",
   "language": "python",
   "name": "python3"
  },
  "language_info": {
   "codemirror_mode": {
    "name": "ipython",
    "version": 3
   },
   "file_extension": ".py",
   "mimetype": "text/x-python",
   "name": "python",
   "nbconvert_exporter": "python",
   "pygments_lexer": "ipython3",
   "version": "3.6.3"
  }
 },
 "nbformat": 4,
 "nbformat_minor": 2
}
